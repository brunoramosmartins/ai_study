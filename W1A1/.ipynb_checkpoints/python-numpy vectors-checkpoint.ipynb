{
 "cells": [
  {
   "cell_type": "code",
   "execution_count": 1,
   "metadata": {},
   "outputs": [],
   "source": [
    "import numpy as np\n",
    "\n",
    "a = np.random.randn(5)\n"
   ]
  },
  {
   "cell_type": "code",
   "execution_count": 2,
   "metadata": {},
   "outputs": [
    {
     "name": "stdout",
     "output_type": "stream",
     "text": [
      "[ 0.99024395 -1.82329368  0.55170572 -0.70985683  0.28566139]\n"
     ]
    }
   ],
   "source": [
    "print(a)"
   ]
  },
  {
   "cell_type": "code",
   "execution_count": 7,
   "metadata": {},
   "outputs": [
    {
     "name": "stdout",
     "output_type": "stream",
     "text": [
      "(5, 1)\n",
      "<class 'tuple'>\n"
     ]
    }
   ],
   "source": [
    "print(a.shape)\n",
    "print(type(a.shape))"
   ]
  },
  {
   "cell_type": "code",
   "execution_count": 4,
   "metadata": {},
   "outputs": [
    {
     "name": "stdout",
     "output_type": "stream",
     "text": [
      "[ 0.99024395 -1.82329368  0.55170572 -0.70985683  0.28566139]\n"
     ]
    }
   ],
   "source": [
    "print(a.T)"
   ]
  },
  {
   "cell_type": "code",
   "execution_count": 5,
   "metadata": {},
   "outputs": [
    {
     "name": "stdout",
     "output_type": "stream",
     "text": [
      "5.194861281915423\n"
     ]
    }
   ],
   "source": [
    "print(np.dot(a, a.T))"
   ]
  },
  {
   "cell_type": "code",
   "execution_count": 8,
   "metadata": {},
   "outputs": [
    {
     "name": "stdout",
     "output_type": "stream",
     "text": [
      "[[1.55779743]\n",
      " [1.17740442]\n",
      " [1.78163278]\n",
      " [0.0289056 ]\n",
      " [3.29349462]]\n",
      "<class 'numpy.ndarray'>\n"
     ]
    }
   ],
   "source": [
    "# a sugestão do professor é não utilizar o caso acima\n",
    "\n",
    "a = np.random.randn(5,1)\n",
    "print(a)\n",
    "print(type(a))"
   ]
  },
  {
   "cell_type": "code",
   "execution_count": 9,
   "metadata": {},
   "outputs": [
    {
     "name": "stdout",
     "output_type": "stream",
     "text": [
      "[[1.55779743 1.17740442 1.78163278 0.0289056  3.29349462]]\n"
     ]
    }
   ],
   "source": [
    "# Desse modo ficamos com o vetor\n",
    "print(a.T)"
   ]
  },
  {
   "cell_type": "code",
   "execution_count": 10,
   "metadata": {},
   "outputs": [
    {
     "name": "stdout",
     "output_type": "stream",
     "text": [
      "[[2.42673282e+00 1.83415757e+00 2.77542296e+00 4.50290619e-02\n",
      "  5.13059745e+00]\n",
      " [1.83415757e+00 1.38628116e+00 2.09770230e+00 3.40335754e-02\n",
      "  3.87777511e+00]\n",
      " [2.77542296e+00 2.09770230e+00 3.17421535e+00 5.14991559e-02\n",
      "  5.86779797e+00]\n",
      " [4.50290619e-02 3.40335754e-02 5.14991559e-02 8.35533435e-04\n",
      "  9.52004224e-02]\n",
      " [5.13059745e+00 3.87777511e+00 5.86779797e+00 9.52004224e-02\n",
      "  1.08471068e+01]]\n"
     ]
    }
   ],
   "source": [
    "# dois colchetes\n",
    "print(np.dot(a, a.T))"
   ]
  },
  {
   "cell_type": "code",
   "execution_count": 13,
   "metadata": {},
   "outputs": [],
   "source": [
    "# a = np.random.randn(5)\n",
    "# a.shape = (5,) é um array rank 1 e, \n",
    "# para não gerar erros nos exercícios, devemos evitar\n",
    "\n",
    "# a = np.random.randn(5, 1) \n",
    "# torna um vetor coluna e\n",
    "# a.shape = (5, 1)\n",
    "\n",
    "# assert(a.shape == (5, 1)) é uma forma de verificar antes de executar"
   ]
  },
  {
   "cell_type": "code",
   "execution_count": null,
   "metadata": {},
   "outputs": [],
   "source": []
  }
 ],
 "metadata": {
  "kernelspec": {
   "display_name": "Python 3",
   "language": "python",
   "name": "python3"
  },
  "language_info": {
   "codemirror_mode": {
    "name": "ipython",
    "version": 3
   },
   "file_extension": ".py",
   "mimetype": "text/x-python",
   "name": "python",
   "nbconvert_exporter": "python",
   "pygments_lexer": "ipython3",
   "version": "3.8.1"
  }
 },
 "nbformat": 4,
 "nbformat_minor": 4
}
