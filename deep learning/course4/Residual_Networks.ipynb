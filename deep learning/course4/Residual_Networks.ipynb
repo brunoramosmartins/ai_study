{
 "cells": [
  {
   "cell_type": "markdown",
   "metadata": {},
   "source": [
    "# Redes Residuais\n",
    "\n",
    "Bem-vindo à primeira tarefa desta semana! Você estará construindo uma rede convolucional muito profunda, usando Redes Residuais (ResNets). Em teoria, redes muito profundas podem representar funções muito complexas; mas na prática, eles são difíceis de treinar. Redes residuais, introduzidas por [He et al.](https://arxiv.org/pdf/1512.03385.pdf), permitem que você treine redes muito mais profundas do que era possível anteriormente.\n",
    "\n",
    "**Ao final desta tarefa, você será capaz de:**\n",
    "\n",
    "- Implemente os blocos básicos de construção de ResNets em uma rede neural profunda usando Keras\n",
    "- Junte esses blocos de construção para implementar e treinar uma rede neural de última geração para classificação de imagens\n",
    "- Implemente uma conexão de salto em sua rede\n",
    "\n",
    "Para esta atribuição, você usará Keras.\n",
    "\n",
    "Antes de entrar no problema, execute a célula abaixo para carregar os pacotes necessários.\n",
    "\n",
    "## Nota importante sobre envio para o AutoGrader\n",
    "\n",
    "Antes de enviar sua tarefa para o AutoGrader, verifique se você não está fazendo o seguinte:\n",
    "\n",
    "1. Você não adicionou nenhum comando `print` _extra_ na tarefa.\n",
    "2. Você não adicionou nenhuma célula de código _extra_ na tarefa.\n",
    "3. Você não alterou nenhum dos parâmetros da função.\n",
    "4. Você não está usando nenhuma variável global em seus exercícios classificados. A menos que seja especificamente instruído a fazê-lo, evite-o e use as variáveis locais.\n",
    "5. Você não está alterando o código de atribuição onde não é necessário, como criar variáveis _extra_.\n",
    "\n",
    "Se você fizer qualquer um dos itens a seguir, receberá algo como \"Avaliador não encontrado\" (ou erro similarmente inesperado) ao enviar sua tarefa. Antes de pedir ajuda/depurar os erros em sua tarefa, verifique-os primeiro. Se esse for o caso e você não se lembrar das alterações feitas, poderá obter uma nova cópia da tarefa seguindo estas [instruções](https://www.coursera.org/learn/convolutional-neural- redes/suplemento/DS4yP/h-ow-to-refresh-your-workspace)."
   ]
  },
  {
   "cell_type": "markdown",
   "metadata": {},
   "source": [
    "## Table of Content\n",
    "\n",
    "- [1 - Packages](#1)\n",
    "- [2 - The Problem of Very Deep Neural Networks](#2)\n",
    "- [3 - Building a Residual Network](#3)\n",
    "    - [3.1 - The Identity Block](#3-1)\n",
    "        - [Exercise 1 - identity_block](#ex-1)\n",
    "    - [3.2 - The Convolutional Block](#3-2)\n",
    "        - [Exercise 2 - convolutional_block](#ex-2)\n",
    "- [4 - Building Your First ResNet Model (50 layers)](#4)\n",
    "    - [Exercise 3 - ResNet50](#ex-3)\n",
    "- [5 - Test on Your Own Image (Optional/Ungraded)](#5)\n",
    "- [6 - Bibliography](#6)"
   ]
  },
  {
   "cell_type": "markdown",
   "metadata": {},
   "source": [
    "<a name='1'></a>\n",
    "## 1 - Packages"
   ]
  },
  {
   "cell_type": "code",
   "execution_count": null,
   "metadata": {},
   "outputs": [],
   "source": [
    "import tensorflow as tf\n",
    "import numpy as np\n",
    "import scipy.misc\n",
    "from tensorflow.keras.applications.resnet_v2 import ResNet50V2\n",
    "from tensorflow.keras.preprocessing import image\n",
    "from tensorflow.keras.applications.resnet_v2 import preprocess_input, decode_predictions\n",
    "from tensorflow.keras import layers\n",
    "from tensorflow.keras.layers import Input, Add, Dense, Activation, ZeroPadding2D, BatchNormalization, Flatten, Conv2D, AveragePooling2D, MaxPooling2D, GlobalMaxPooling2D\n",
    "from tensorflow.keras.models import Model, load_model\n",
    "from resnets_utils import *\n",
    "from tensorflow.keras.initializers import random_uniform, glorot_uniform, constant, identity\n",
    "from tensorflow.python.framework.ops import EagerTensor\n",
    "from matplotlib.pyplot import imshow\n",
    "\n",
    "from test_utils import summary, comparator\n",
    "import public_tests\n",
    "\n",
    "%matplotlib inline\n",
    "np.random.seed(1)\n",
    "tf.random.set_seed(2)"
   ]
  },
  {
   "cell_type": "code",
   "execution_count": null,
   "metadata": {},
   "outputs": [],
   "source": []
  }
 ],
 "metadata": {
  "kernelspec": {
   "display_name": "Python 3",
   "language": "python",
   "name": "python3"
  },
  "language_info": {
   "codemirror_mode": {
    "name": "ipython",
    "version": 3
   },
   "file_extension": ".py",
   "mimetype": "text/x-python",
   "name": "python",
   "nbconvert_exporter": "python",
   "pygments_lexer": "ipython3",
   "version": "3.8.1"
  }
 },
 "nbformat": 4,
 "nbformat_minor": 4
}
