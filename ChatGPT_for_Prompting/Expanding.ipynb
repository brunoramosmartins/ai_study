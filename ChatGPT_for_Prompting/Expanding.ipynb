{
 "cells": [
  {
   "cell_type": "markdown",
   "metadata": {},
   "source": [
    "# Expanding\n",
    "In this lesson, you will generate customer service emails that are tailored to each customer's review.\n",
    "\n",
    "## Setup"
   ]
  },
  {
   "cell_type": "code",
   "execution_count": 1,
   "metadata": {},
   "outputs": [],
   "source": [
    "import openai\n",
    "import os\n",
    "\n",
    "from dotenv import load_dotenv, find_dotenv\n",
    "_ = load_dotenv(find_dotenv()) # read local .env file\n",
    "\n",
    "openai.api_key  = os.getenv('OPENAI_API_KEY')"
   ]
  },
  {
   "cell_type": "code",
   "execution_count": 2,
   "metadata": {},
   "outputs": [],
   "source": [
    "def get_completion(prompt, model=\"gpt-3.5-turbo\",temperature=0): # Andrew mentioned that the prompt/ completion paradigm is preferable for this class\n",
    "    messages = [{\"role\": \"user\", \"content\": prompt}]\n",
    "    response = openai.ChatCompletion.create(\n",
    "        model=model,\n",
    "        messages=messages,\n",
    "        temperature=temperature, # this is the degree of randomness of the model's output\n",
    "    )\n",
    "    return response.choices[0].message[\"content\"]"
   ]
  },
  {
   "cell_type": "markdown",
   "metadata": {},
   "source": [
    "## Customize the automated reply to a customer email"
   ]
  },
  {
   "cell_type": "code",
   "execution_count": 3,
   "metadata": {},
   "outputs": [],
   "source": [
    "# given the sentiment from the lesson on \"inferring\",\n",
    "# and the original customer message, customize the email\n",
    "sentiment = \"negative\"\n",
    "\n",
    "# review for a blender\n",
    "review = f\"\"\"\n",
    "Então, eles ainda tinham o sistema de 17 peças na estação \\\n",
    "venda por cerca de $ 49 no mês de novembro, cerca de \\\n",
    "metade do desconto, mas por algum motivo (chame isso de manipulação de preços) \\\n",
    "por volta da segunda semana de dezembro, todos os preços foram \\\n",
    "até cerca de $ 70- $ 89 para o mesmo \\\n",
    "sistema. E o sistema de 11 peças subiu cerca de $ 10 ou \\\n",
    "assim no preço também do preço de venda anterior de $ 29. \\\n",
    "Parece bom, mas se você olhar para a base, a parte \\\n",
    "onde a lâmina trava no lugar não parece tão bom \\\n",
    "como nas edições anteriores de alguns anos atrás, mas eu \\\n",
    "planeje ser muito gentil com isso (exemplo, eu esmago \\\n",
    "itens muito duros como feijão, gelo, arroz, etc. na \\\n",
    "liquidificador primeiro e depois pulverize-os no tamanho da porção \\\n",
    "Eu quero no liquidificador depois mude para o chicote \\\n",
    "lâmina para uma farinha mais fina, e use a lâmina de corte transversal \\\n",
    "primeiro ao fazer smoothies, depois use a lâmina plana \\\n",
    "se eu precisar deles mais finos/menos carnudos). Dica especial na hora de fazer \\\n",
    "smoothies, corte finamente e congele as frutas e \\\n",
    "legumes (se usar espinafre-levemente refogado amolecer o \\\n",
    "espinafre, em seguida, congele até estar pronto para uso - e se estiver fazendo \\\n",
    "sorvete, use um processador de alimentos de tamanho pequeno a médio) \\\n",
    "que você planeja usar dessa forma, você pode evitar adicionar \\\n",
    "muito gelo, se for o caso - ao fazer seu smoothie. \\\n",
    "Após cerca de um ano, o motor estava fazendo um barulho estranho. \\\n",
    "Liguei para o atendimento ao cliente, mas a garantia expirou \\\n",
    "já, então tive que comprar outro. FYI: O geral \\\n",
    "a qualidade foi feita nesses tipos de produtos, então \\\n",
    "eles estão contando com o reconhecimento da marca e \\\n",
    "lealdade do consumidor para manter as vendas. Entendi em cerca de \\\n",
    "dois dias.\n",
    "\"\"\""
   ]
  },
  {
   "cell_type": "code",
   "execution_count": 5,
   "metadata": {},
   "outputs": [
    {
     "name": "stdout",
     "output_type": "stream",
     "text": [
      "Caro cliente,\n",
      "\n",
      "Gostaríamos de agradecer por sua avaliação e feedback sobre o produto que você adquiriu conosco. Lamentamos muito que você tenha tido uma experiência negativa com o preço do produto e a qualidade do motor.\n",
      "\n",
      "Pedimos desculpas por qualquer inconveniente que isso possa ter causado. Se você tiver alguma dúvida ou preocupação adicional, por favor, não hesite em entrar em contato com o nosso atendimento ao cliente para que possamos ajudá-lo da melhor maneira possível.\n",
      "\n",
      "Mais uma vez, agradecemos por sua avaliação e esperamos ter a oportunidade de atendê-lo novamente no futuro.\n",
      "\n",
      "Atenciosamente,\n",
      "\n",
      "Agente de atendimento ao cliente AI\n"
     ]
    }
   ],
   "source": [
    "prompt = f\"\"\"\n",
    "Você é um assistente de IA de atendimento ao cliente.\n",
    "Sua tarefa é enviar uma resposta por e-mail a um cliente valioso.\n",
    "Dado o e-mail do cliente delimitado por ```, \\\n",
    "Gere uma resposta para agradecer ao cliente pela avaliação.\n",
    "Se o sentimento for positivo ou neutro, agradeça por \\\n",
    "sua revisão.\n",
    "Se o sentimento for negativo, peça desculpas e sugira que \\\n",
    "eles podem entrar em contato com o atendimento ao cliente.\n",
    "Certifique-se de usar detalhes específicos da revisão.\n",
    "Escreva em um tom conciso e profissional.\n",
    "Assine o e-mail como `agente de cliente AI`.\n",
    "Customer review: ```{review}```\n",
    "Review sentiment: {sentiment}\n",
    "\"\"\"\n",
    "response = get_completion(prompt)\n",
    "print(response)"
   ]
  },
  {
   "cell_type": "markdown",
   "metadata": {},
   "source": [
    "## Remind the model to use details from the customer's email"
   ]
  },
  {
   "cell_type": "code",
   "execution_count": 6,
   "metadata": {},
   "outputs": [
    {
     "name": "stdout",
     "output_type": "stream",
     "text": [
      "Caro cliente,\n",
      "\n",
      "Agradecemos por compartilhar sua opinião sobre o produto que adquiriu conosco. Lamentamos que você tenha experimentado problemas com o preço do produto e a qualidade da lâmina.\n",
      "\n",
      "Pedimos desculpas por qualquer inconveniente que isso possa ter causado. Se você tiver outras preocupações ou precisar de assistência adicional, entre em contato com nosso atendimento ao cliente. Teremos prazer em ajudá-lo a resolver qualquer problema.\n",
      "\n",
      "Obrigado novamente por sua avaliação e por escolher nossos produtos. Esperamos ter a oportunidade de fornecer um serviço melhor no futuro.\n",
      "\n",
      "Atenciosamente,\n",
      "Agente de atendimento ao cliente AI\n"
     ]
    }
   ],
   "source": [
    "prompt = f\"\"\"\n",
    "Você é um assistente de IA de atendimento ao cliente.\n",
    "Sua tarefa é enviar uma resposta por e-mail a um cliente valioso.\n",
    "Dado o e-mail do cliente delimitado por ```, \\\n",
    "Gere uma resposta para agradecer ao cliente pela avaliação.\n",
    "Se o sentimento for positivo ou neutro, agradeça por \\\n",
    "sua revisão.\n",
    "Se o sentimento for negativo, peça desculpas e sugira que \\\n",
    "eles podem entrar em contato com o atendimento ao cliente.\n",
    "Certifique-se de usar detalhes específicos da revisão.\n",
    "Escreva em um tom conciso e profissional.\n",
    "Assine o e-mail como `agente de cliente AI`.\n",
    "Customer review: ```{review}```\n",
    "Review sentiment: {sentiment}\n",
    "\"\"\"\n",
    "response = get_completion(prompt, temperature=0.7)\n",
    "print(response)"
   ]
  },
  {
   "cell_type": "code",
   "execution_count": null,
   "metadata": {},
   "outputs": [],
   "source": []
  }
 ],
 "metadata": {
  "kernelspec": {
   "display_name": "Python 3",
   "language": "python",
   "name": "python3"
  },
  "language_info": {
   "codemirror_mode": {
    "name": "ipython",
    "version": 3
   },
   "file_extension": ".py",
   "mimetype": "text/x-python",
   "name": "python",
   "nbconvert_exporter": "python",
   "pygments_lexer": "ipython3",
   "version": "3.8.1"
  }
 },
 "nbformat": 4,
 "nbformat_minor": 4
}
