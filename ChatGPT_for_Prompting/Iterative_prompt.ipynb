{
 "cells": [
  {
   "cell_type": "markdown",
   "metadata": {},
   "source": [
    "# Iterative Prompt Develelopment\n",
    "In this lesson, you'll iteratively analyze and refine your prompts to generate marketing copy from a product fact sheet.\n",
    "\n",
    "## Setup"
   ]
  },
  {
   "cell_type": "code",
   "execution_count": 1,
   "metadata": {},
   "outputs": [],
   "source": [
    "import openai\n",
    "import os\n",
    "\n",
    "from dotenv import load_dotenv, find_dotenv\n",
    "_ = load_dotenv(find_dotenv()) # read local .env file\n",
    "\n",
    "openai.api_key  = os.getenv('OPENAI_API_KEY')"
   ]
  },
  {
   "cell_type": "code",
   "execution_count": 2,
   "metadata": {},
   "outputs": [],
   "source": [
    "def get_completion(prompt, model=\"gpt-3.5-turbo\"):\n",
    "    messages = [{\"role\": \"user\", \"content\": prompt}]\n",
    "    response = openai.ChatCompletion.create(\n",
    "        model=model,\n",
    "        messages=messages,\n",
    "        temperature=0, # this is the degree of randomness of the model's output\n",
    "    )\n",
    "    return response.choices[0].message[\"content\"]"
   ]
  },
  {
   "cell_type": "markdown",
   "metadata": {},
   "source": [
    "## Generate a marketing product description from a product fact sheet"
   ]
  },
  {
   "cell_type": "code",
   "execution_count": 3,
   "metadata": {},
   "outputs": [],
   "source": [
    "fact_sheet_chair = \"\"\"\n",
    "VISÃO GERAL\n",
    "- Parte de uma bela família de móveis de escritório inspirados em meados do século,\n",
    "incluindo armários de arquivo, mesas, estantes, mesas de reunião e muito mais.\n",
    "- Diversas opções de cores de casca e acabamentos de base.\n",
    "- Disponível com estofamento traseiro e dianteiro de plástico (SWC-100)\n",
    "ou estofamento completo (SWC-110) em 10 opções de tecido e 6 opções de couro.\n",
    "- As opções de acabamento da base são: aço inox, preto fosco,\n",
    "branco brilhante ou cromado.\n",
    "- A cadeira está disponível com ou sem braços.\n",
    "- Adequado para ambientes domésticos ou empresariais.\n",
    "- Qualificado para uso contratual.\n",
    "\n",
    "CONSTRUÇÃO\n",
    "- Base de 5 rodas em alumínio plastificado.\n",
    "- Ajuste pneumático da cadeira para facilitar a ação de levantar/descer.\n",
    "\n",
    "DIMENSÕES\n",
    "- LARGURA 53 CM | 20,87\"\n",
    "- PROFUNDIDADE 51 CM | 20.08\"\n",
    "- ALTURA 80 CM | 31,50\"\n",
    "- ALTURA DO ASSENTO 44 CM | 17,32\"\n",
    "- PROFUNDIDADE DO ASSENTO 41 CM | 16,14\"\n",
    "\n",
    "OPÇÕES\n",
    "- Opções de rodízios macios ou duros.\n",
    "- Duas opções de densidades de espuma do assento:\n",
    "  médio (1,8 lb/ft3) ou alto (2,8 lb/ft3)\n",
    "- Apoios de braços em PU sem braços ou de 8 posições\n",
    "\n",
    "MATERIAIS\n",
    "PLANADOR COM BASE DE CASCO\n",
    "- Alumínio fundido com revestimento de nylon modificado PA6/PA66.\n",
    "- Espessura da casca: 10 mm.\n",
    "ASSENTO\n",
    "- Espuma HD36\n",
    "\n",
    "PAÍS DE ORIGEM\n",
    "- Itália\n",
    "\"\"\""
   ]
  },
  {
   "cell_type": "code",
   "execution_count": 4,
   "metadata": {},
   "outputs": [
    {
     "name": "stdout",
     "output_type": "stream",
     "text": [
      "Apresentamos a cadeira de escritório SWC, parte de uma bela família de móveis de escritório inspirados em meados do século. Com diversas opções de cores de casca e acabamentos de base, a SWC está disponível com estofamento traseiro e dianteiro de plástico ou estofamento completo em 10 opções de tecido e 6 opções de couro. A cadeira está disponível com ou sem braços e é adequada para ambientes domésticos ou empresariais, sendo qualificada para uso contratual. \n",
      "\n",
      "A SWC possui uma base de 5 rodas em alumínio plastificado e ajuste pneumático da cadeira para facilitar a ação de levantar/descer. Suas dimensões são: largura de 53 cm, profundidade de 51 cm, altura de 80 cm e altura do assento de 44 cm. A profundidade do assento é de 41 cm. \n",
      "\n",
      "A SWC oferece opções de rodízios macios ou duros, duas opções de densidades de espuma do assento (médio ou alto) e apoios de braços em PU sem braços ou de 8 posições. A casca é feita de alumínio fundido com revestimento de nylon modificado PA6/PA66, com espessura de 10 mm, enquanto o assento é feito de espuma HD36. \n",
      "\n",
      "Fabricada na Itália, a SWC é uma cadeira de escritório elegante e confortável, perfeita para quem busca qualidade e estilo em um só produto.\n"
     ]
    }
   ],
   "source": [
    "prompt = f\"\"\"\n",
    "Sua tarefa é ajudar uma equipe de marketing a criar um\n",
    "descrição para um site de varejo de um produto baseado\n",
    "em uma ficha técnica.\n",
    "\n",
    "Escreva uma descrição do produto com base nas informações\n",
    "previsto nas especificações técnicas delimitadas por\n",
    "backticks triplos.\n",
    "\n",
    "Especificações técnicas: ```{fact_sheet_chair}```\n",
    "\"\"\"\n",
    "response = get_completion(prompt)\n",
    "print(response)"
   ]
  },
  {
   "cell_type": "markdown",
   "metadata": {},
   "source": [
    "## Problema 1: O texto é muito longo\n",
    "- Limite o número de palavras/frases/caracteres."
   ]
  },
  {
   "cell_type": "code",
   "execution_count": 5,
   "metadata": {},
   "outputs": [
    {
     "name": "stdout",
     "output_type": "stream",
     "text": [
      "A cadeira de escritório SWC é parte de uma bela família de móveis inspirados em meados do século. Com diversas opções de cores e acabamentos, a cadeira é adequada para ambientes domésticos ou empresariais. A base de 5 rodas em alumínio plastificado e o ajuste pneumático facilitam a ação de levantar/descer.\n"
     ]
    }
   ],
   "source": [
    "prompt = f\"\"\"\n",
    "Sua tarefa é ajudar uma equipe de marketing a criar um\n",
    "descrição para um site de varejo de um produto baseado\n",
    "em uma ficha técnica.\n",
    "\n",
    "Escreva uma descrição do produto com base nas informações\n",
    "previsto nas especificações técnicas delimitadas por\n",
    "backticks triplos.\n",
    "\n",
    "Use no máximo 50 palavras.\n",
    "\n",
    "Especificações técnicas: ```{fact_sheet_chair}```\n",
    "\"\"\"\n",
    "response = get_completion(prompt)\n",
    "print(response)"
   ]
  },
  {
   "cell_type": "markdown",
   "metadata": {},
   "source": [
    "## Problema 2. O texto foca nos detalhes errados\n",
    "- Peça-lhe que se concentre nos aspectos relevantes para o público-alvo."
   ]
  },
  {
   "cell_type": "code",
   "execution_count": 6,
   "metadata": {},
   "outputs": [
    {
     "name": "stdout",
     "output_type": "stream",
     "text": [
      "A cadeira de escritório SWC é parte de uma família de móveis inspirados em meados do século, com diversas opções de cores e acabamentos. A base de alumínio plastificado possui 5 rodas e ajuste pneumático para levantar/descer. Disponível com ou sem braços, a cadeira é adequada para uso doméstico ou empresarial e possui opções de densidade de espuma do assento e apoios de braços em PU. Fabricada na Itália.\n"
     ]
    }
   ],
   "source": [
    "prompt = f\"\"\"\n",
    "Sua tarefa é ajudar uma equipe de marketing a criar um\n",
    "descrição para um site de varejo de um produto baseado\n",
    "em uma ficha técnica.\n",
    "\n",
    "Escreva uma descrição do produto com base nas informações\n",
    "previsto nas especificações técnicas delimitadas por\n",
    "backticks triplos.\n",
    "\n",
    "A descrição é destinada a varejistas de móveis,\n",
    "portanto, deve ser de natureza técnica e focar no\n",
    "materiais com os quais o produto é construído.\n",
    "\n",
    "Use no máximo 50 palavras.\n",
    "\n",
    "Especificações técnicas:```{fact_sheet_chair}```\n",
    "\"\"\"\n",
    "response = get_completion(prompt)\n",
    "print(response)"
   ]
  },
  {
   "cell_type": "code",
   "execution_count": 7,
   "metadata": {},
   "outputs": [
    {
     "name": "stdout",
     "output_type": "stream",
     "text": [
      "A cadeira de escritório SWC é uma adição elegante e funcional para qualquer espaço de trabalho. Com uma variedade de opções de cores e acabamentos de base, além de estofamento em tecido ou couro, esta cadeira é personalizável para atender às suas necessidades. Construída com uma base de alumínio plastificado e ajuste pneumático, a SWC é durável e fácil de usar. (SWC-100/SWC-110)\n"
     ]
    }
   ],
   "source": [
    "prompt = f\"\"\"\n",
    "Sua tarefa é ajudar uma equipe de marketing a criar um\n",
    "descrição para um site de varejo de um produto baseado\n",
    "em uma ficha técnica.\n",
    "\n",
    "Escreva uma descrição do produto com base nas informações\n",
    "previsto nas especificações técnicas delimitadas por\n",
    "backticks triplos.\n",
    "\n",
    "A descrição é destinada a varejistas de móveis,\n",
    "portanto, deve ser de natureza técnica e focar no\n",
    "materiais com os quais o produto é construído.\n",
    "\n",
    "No final da descrição, inclua todos os 7 caracteres\n",
    "Identificação do produto na especificação técnica.\n",
    "\n",
    "Use no máximo 50 palavras.\n",
    "\n",
    "Especificações técnicas:```{fact_sheet_chair}```\n",
    "\"\"\"\n",
    "response = get_completion(prompt)\n",
    "print(response)"
   ]
  },
  {
   "cell_type": "markdown",
   "metadata": {},
   "source": [
    "## Issue 3. Description needs a table of dimensions\n",
    "- Ask it to extract information and organize it in a table."
   ]
  },
  {
   "cell_type": "code",
   "execution_count": 8,
   "metadata": {},
   "outputs": [
    {
     "name": "stdout",
     "output_type": "stream",
     "text": [
      "<div>\n",
      "  <h2>Cadeira de Escritório Mid-Century</h2>\n",
      "  <p>A Cadeira de Escritório Mid-Century é parte de uma bela família de móveis de escritório inspirados em meados do século. Com diversas opções de cores de casca e acabamentos de base, esta cadeira está disponível com estofamento traseiro e dianteiro de plástico ou estofamento completo em 10 opções de tecido e 6 opções de couro. A base de 5 rodas em alumínio plastificado e o ajuste pneumático da cadeira facilitam a ação de levantar/descer. A cadeira está disponível com ou sem braços e é adequada para ambientes domésticos ou empresariais. Qualificada para uso contratual, a Cadeira de Escritório Mid-Century é uma escolha elegante e confortável para qualquer espaço de trabalho.</p>\n",
      "  <p>ID do Produto: SWC-100</p>\n",
      "  \n",
      "  <table>\n",
      "    <caption>Dimensões do produto</caption>\n",
      "    <tr>\n",
      "      <th>Dimensão</th>\n",
      "      <th>Medida (polegadas)</th>\n",
      "    </tr>\n",
      "    <tr>\n",
      "      <td>Largura</td>\n",
      "      <td>20,87\"</td>\n",
      "    </tr>\n",
      "    <tr>\n",
      "      <td>Profundidade</td>\n",
      "      <td>20,08\"</td>\n",
      "    </tr>\n",
      "    <tr>\n",
      "      <td>Altura</td>\n",
      "      <td>31,50\"</td>\n",
      "    </tr>\n",
      "    <tr>\n",
      "      <td>Altura do Assento</td>\n",
      "      <td>17,32\"</td>\n",
      "    </tr>\n",
      "    <tr>\n",
      "      <td>Profundidade do Assento</td>\n",
      "      <td>16,14\"</td>\n",
      "    </tr>\n",
      "  </table>\n",
      "</div>\n"
     ]
    }
   ],
   "source": [
    "prompt = f\"\"\"\n",
    "Sua tarefa é ajudar uma equipe de marketing a criar um\n",
    "descrição para um site de varejo de um produto baseado\n",
    "em uma ficha técnica.\n",
    "\n",
    "Escreva uma descrição do produto com base nas informações\n",
    "previsto nas especificações técnicas delimitadas por\n",
    "backticks triplos.\n",
    "\n",
    "A descrição é destinada a varejistas de móveis,\n",
    "portanto, deve ser de natureza técnica e focar no\n",
    "materiais com os quais o produto é construído.\n",
    "\n",
    "No final da descrição, inclua todos os 7 caracteres\n",
    "Identificação do produto na especificação técnica.\n",
    "\n",
    "Após a descrição, inclua uma tabela que dê as\n",
    "dimensões do produto. A tabela deve ter duas colunas.\n",
    "Na primeira coluna inclua o nome da dimensão.\n",
    "Na segunda coluna inclua apenas as medidas em polegadas.\n",
    "\n",
    "Dê à tabela o título 'Dimensões do produto'.\n",
    "\n",
    "Formate tudo como HTML que pode ser usado em um site.\n",
    "Coloque a descrição em um elemento <div>.\n",
    "\n",
    "Especificações técnicas: ```{fact_sheet_chair}```\n",
    "\"\"\"\n",
    "\n",
    "response = get_completion(prompt)\n",
    "print(response)"
   ]
  },
  {
   "cell_type": "markdown",
   "metadata": {},
   "source": [
    "## Load Python libraries to view HTML"
   ]
  },
  {
   "cell_type": "code",
   "execution_count": 9,
   "metadata": {},
   "outputs": [],
   "source": [
    "from IPython.display import display, HTML"
   ]
  },
  {
   "cell_type": "code",
   "execution_count": 10,
   "metadata": {},
   "outputs": [
    {
     "data": {
      "text/html": [
       "<div>\n",
       "  <h2>Cadeira de Escritório Mid-Century</h2>\n",
       "  <p>A Cadeira de Escritório Mid-Century é parte de uma bela família de móveis de escritório inspirados em meados do século. Com diversas opções de cores de casca e acabamentos de base, esta cadeira está disponível com estofamento traseiro e dianteiro de plástico ou estofamento completo em 10 opções de tecido e 6 opções de couro. A base de 5 rodas em alumínio plastificado e o ajuste pneumático da cadeira facilitam a ação de levantar/descer. A cadeira está disponível com ou sem braços e é adequada para ambientes domésticos ou empresariais. Qualificada para uso contratual, a Cadeira de Escritório Mid-Century é uma escolha elegante e confortável para qualquer espaço de trabalho.</p>\n",
       "  <p>ID do Produto: SWC-100</p>\n",
       "  \n",
       "  <table>\n",
       "    <caption>Dimensões do produto</caption>\n",
       "    <tr>\n",
       "      <th>Dimensão</th>\n",
       "      <th>Medida (polegadas)</th>\n",
       "    </tr>\n",
       "    <tr>\n",
       "      <td>Largura</td>\n",
       "      <td>20,87\"</td>\n",
       "    </tr>\n",
       "    <tr>\n",
       "      <td>Profundidade</td>\n",
       "      <td>20,08\"</td>\n",
       "    </tr>\n",
       "    <tr>\n",
       "      <td>Altura</td>\n",
       "      <td>31,50\"</td>\n",
       "    </tr>\n",
       "    <tr>\n",
       "      <td>Altura do Assento</td>\n",
       "      <td>17,32\"</td>\n",
       "    </tr>\n",
       "    <tr>\n",
       "      <td>Profundidade do Assento</td>\n",
       "      <td>16,14\"</td>\n",
       "    </tr>\n",
       "  </table>\n",
       "</div>"
      ],
      "text/plain": [
       "<IPython.core.display.HTML object>"
      ]
     },
     "metadata": {},
     "output_type": "display_data"
    }
   ],
   "source": [
    "display(HTML(response))"
   ]
  },
  {
   "cell_type": "code",
   "execution_count": null,
   "metadata": {},
   "outputs": [],
   "source": []
  }
 ],
 "metadata": {
  "kernelspec": {
   "display_name": "Python 3",
   "language": "python",
   "name": "python3"
  },
  "language_info": {
   "codemirror_mode": {
    "name": "ipython",
    "version": 3
   },
   "file_extension": ".py",
   "mimetype": "text/x-python",
   "name": "python",
   "nbconvert_exporter": "python",
   "pygments_lexer": "ipython3",
   "version": "3.8.1"
  }
 },
 "nbformat": 4,
 "nbformat_minor": 4
}
