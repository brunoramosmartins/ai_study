{
 "cells": [
  {
   "cell_type": "markdown",
   "metadata": {},
   "source": [
    "# Summarizing\n",
    "In this lesson, you will summarize text with a focus on specific topics.\n",
    "\n",
    "## Setup"
   ]
  },
  {
   "cell_type": "code",
   "execution_count": 1,
   "metadata": {},
   "outputs": [],
   "source": [
    "import openai\n",
    "import os\n",
    "\n",
    "from dotenv import load_dotenv, find_dotenv\n",
    "_ = load_dotenv(find_dotenv()) # read local .env file\n",
    "\n",
    "openai.api_key  = os.getenv('OPENAI_API_KEY')"
   ]
  },
  {
   "cell_type": "code",
   "execution_count": 2,
   "metadata": {},
   "outputs": [],
   "source": [
    "def get_completion(prompt, model=\"gpt-3.5-turbo\"): # Andrew mentioned that the prompt/ completion paradigm is preferable for this class\n",
    "    messages = [{\"role\": \"user\", \"content\": prompt}]\n",
    "    response = openai.ChatCompletion.create(\n",
    "        model=model,\n",
    "        messages=messages,\n",
    "        temperature=0, # this is the degree of randomness of the model's output\n",
    "    )\n",
    "    return response.choices[0].message[\"content\"]"
   ]
  },
  {
   "cell_type": "markdown",
   "metadata": {},
   "source": [
    "## Text to summarize"
   ]
  },
  {
   "cell_type": "code",
   "execution_count": 3,
   "metadata": {},
   "outputs": [],
   "source": [
    "prod_review = \"\"\"\n",
    "Ganhei este panda de pelúcia no aniversário da minha filha, \\\n",
    "que ama e leva para todo lugar. É macio e \\\n",
    "super fofo, e seu rosto tem um ar amigável. Isso é \\\n",
    "um pouco pequeno para o que paguei. Eu acho que lá \\\n",
    "pode haver outras opções maiores para o \\\n",
    "mesmo preço. Chegou um dia antes do previsto, \\\n",
    "então eu tenho que brincar com ele antes de dar \\\n",
    "a ela.\n",
    "\"\"\""
   ]
  },
  {
   "cell_type": "markdown",
   "metadata": {},
   "source": [
    "## Summarize with a word/sentence/character limit"
   ]
  },
  {
   "cell_type": "code",
   "execution_count": 4,
   "metadata": {},
   "outputs": [
    {
     "name": "stdout",
     "output_type": "stream",
     "text": [
      "Pelúcia de panda macia e fofa, com rosto amigável. Um pouco pequena pelo preço, mas chegou antes do previsto.\n"
     ]
    }
   ],
   "source": [
    "prompt = f\"\"\"\n",
    "Sua tarefa é gerar um breve resumo de um produto \\\n",
    "revisão de um site de comércio eletrônico.\n",
    "\n",
    "Resuma a resenha abaixo, delimitada por tríplice\n",
    "backticks, em no máximo 30 palavras.\n",
    "\n",
    "Análise: ```{prod_review}```\n",
    "\"\"\"\n",
    "\n",
    "response = get_completion(prompt)\n",
    "print(response)"
   ]
  },
  {
   "cell_type": "code",
   "execution_count": 5,
   "metadata": {},
   "outputs": [
    {
     "name": "stdout",
     "output_type": "stream",
     "text": [
      "O panda de pelúcia é macio e fofo, mas um pouco pequeno pelo preço. Chegou um dia antes do previsto, permitindo brincar com ele antes de dar à filha.\n"
     ]
    }
   ],
   "source": [
    "prompt = f\"\"\"\n",
    "Sua tarefa é gerar um breve resumo de um produto \\\n",
    "revisão de um site de comércio eletrônico para dar feedback ao \\\n",
    "Departamento de expedição.\n",
    "\n",
    "Resuma a resenha abaixo, delimitada por tríplice\n",
    "backticks, em no máximo 30 palavras, e focando em quaisquer aspectos \\\n",
    "que mencionam o envio e a entrega do produto.\n",
    "\n",
    "Análise: ```{prod_review}```\n",
    "\"\"\"\n",
    "\n",
    "response = get_completion(prompt)\n",
    "print(response)"
   ]
  },
  {
   "cell_type": "markdown",
   "metadata": {},
   "source": [
    "## Summarize with a focus on price and value"
   ]
  },
  {
   "cell_type": "code",
   "execution_count": 6,
   "metadata": {},
   "outputs": [
    {
     "name": "stdout",
     "output_type": "stream",
     "text": [
      "O panda de pelúcia é macio e fofo, mas um pouco pequeno pelo preço pago. O cliente sugere que há outras opções maiores pelo mesmo preço. A entrega foi rápida.\n"
     ]
    }
   ],
   "source": [
    "prompt = f\"\"\"\n",
    "Sua tarefa é gerar um breve resumo de um produto \\\n",
    "revisão de um site de comércio eletrônico para dar feedback ao \\\n",
    "departamento de preços, responsável por determinar o \\\n",
    "preço do produto.\n",
    "\n",
    "Resuma a resenha abaixo, delimitada por tríplice\n",
    "backticks, em no máximo 30 palavras, e focando em quaisquer aspectos \\\n",
    "que são relevantes para o preço e valor percebido.\n",
    "\n",
    "Análise: ```{prod_review}```\n",
    "\"\"\"\n",
    "\n",
    "response = get_completion(prompt)\n",
    "print(response)"
   ]
  },
  {
   "cell_type": "markdown",
   "metadata": {},
   "source": [
    "#### Comment\n",
    "- Summaries include topics that are not related to the topic of focus."
   ]
  },
  {
   "cell_type": "markdown",
   "metadata": {},
   "source": [
    "## Try \"extract\" instead of \"summarize\""
   ]
  },
  {
   "cell_type": "code",
   "execution_count": 7,
   "metadata": {},
   "outputs": [
    {
     "name": "stdout",
     "output_type": "stream",
     "text": [
      "\"Chegou um dia antes do previsto\".\n"
     ]
    }
   ],
   "source": [
    "prompt = f\"\"\"\n",
    "Sua tarefa é extrair informações relevantes de \\\n",
    "uma avaliação do produto de um site de comércio eletrônico para dar \\\n",
    "feedback ao departamento de expedição.\n",
    "\n",
    "Da resenha abaixo, delimitada por aspas triplas \\\n",
    "extrair as informações relevantes para envio e \\\n",
    "entrega. Limite de 30 palavras.\n",
    "\n",
    "Análise: ```{prod_review}```\n",
    "\"\"\"\n",
    "\n",
    "response = get_completion(prompt)\n",
    "print(response)"
   ]
  },
  {
   "cell_type": "markdown",
   "metadata": {},
   "source": [
    "## Summarize multiple product reviews"
   ]
  },
  {
   "cell_type": "code",
   "execution_count": 8,
   "metadata": {},
   "outputs": [],
   "source": [
    "review_1 = prod_review \n",
    "\n",
    "# review for a standing lamp\n",
    "review_2 = \"\"\"\n",
    "Precisava de uma luminária bacana para o meu quarto, e essa \\\n",
    "tinha armazenamento adicional e um preço não muito alto \\\n",
    "apontar. Entendi rápido - chegou em 2 dias. A corda \\\n",
    "a lâmpada quebrou durante o trânsito e a empresa \\\n",
    "felizmente enviou um novo. Chegou em poucos dias \\\n",
    "também. Foi fácil de montar. Então eu tive um \\\n",
    "faltando a parte, então entrei em contato com o suporte deles e eles \\\n",
    "muito rapidamente me deu a peça que faltava! Parece-me \\\n",
    "ser uma grande empresa que se preocupa com seus clientes \\\n",
    "e produtos.\n",
    "\"\"\"\n",
    "\n",
    "# review for an electric toothbrush\n",
    "review_3 = \"\"\"\n",
    "Meu higienista dental recomendou uma escova de dentes elétrica, \\\n",
    "é por isso que eu tenho isso. A duração da bateria parece ser \\\n",
    "bastante impressionante até agora. Após o carregamento inicial e \\\n",
    "deixando o carregador conectado na primeira semana para \\\n",
    "condição da bateria, desconectei o carregador e \\\n",
    "tenho usado para escovação duas vezes ao dia nos últimos \\\n",
    "3 semanas com a mesma carga. Mas a cabeça da escova de dentes \\\n",
    "é muito pequeno. Já vi escovas de dente de bebê maiores que \\\n",
    "Este. Eu queria que a cabeça fosse maior com diferentes \\\n",
    "cerdas de comprimento para passar melhor entre os dentes porque \\\n",
    "este não. No geral, se você conseguir este \\\n",
    "em torno da marca de $ 50, é um bom negócio. \\ do fabricante\n",
    "cabeças de reposição são muito caras, mas você pode \\\n",
    "obtenha genéricos com preços mais razoáveis. Esse \\\n",
    "escova de dentes me faz sentir como se tivesse ido ao dentista \\\n",
    "diariamente. Sinto meus dentes limpos e brilhantes! \n",
    "\"\"\"\n",
    "\n",
    "# review for a blender\n",
    "review_4 = \"\"\"\n",
    "Então, eles ainda tinham o sistema de 17 peças na estação \\\n",
    "venda por cerca de $ 49 no mês de novembro, cerca de \\\n",
    "metade do desconto, mas por algum motivo (chame isso de manipulação de preços) \\\n",
    "por volta da segunda semana de dezembro, todos os preços foram \\\n",
    "até cerca de $ 70- $ 89 para o mesmo \\\n",
    "sistema. E o sistema de 11 peças subiu cerca de $ 10 ou \\\n",
    "assim no preço também do preço de venda anterior de $ 29. \\\n",
    "Parece bom, mas se você olhar para a base, a parte \\\n",
    "onde a lâmina trava no lugar não parece tão bom \\\n",
    "como nas edições anteriores de alguns anos atrás, mas eu \\\n",
    "planeje ser muito gentil com isso (exemplo, eu esmago \\\n",
    "itens muito duros como feijão, gelo, arroz, etc. na \\\n",
    "liquidificador primeiro e depois pulverize-os no tamanho da porção \\\n",
    "Eu quero no liquidificador depois mude para o chicote \\\n",
    "lâmina para uma farinha mais fina, e use a lâmina de corte transversal \\\n",
    "primeiro ao fazer smoothies, depois use a lâmina plana \\\n",
    "se eu precisar deles mais finos/menos carnudos). Dica especial na hora de fazer \\\n",
    "smoothies, corte finamente e congele as frutas e \\\n",
    "legumes (se usar espinafre-levemente refogado amolecer o \\\n",
    "espinafre, em seguida, congele até estar pronto para uso - e se estiver fazendo \\\n",
    "sorvete, use um processador de alimentos de tamanho pequeno a médio) \\\n",
    "que você planeja usar dessa forma, você pode evitar adicionar \\\n",
    "muito gelo, se for o caso - ao fazer seu smoothie. \\\n",
    "Após cerca de um ano, o motor estava fazendo um barulho estranho. \\\n",
    "Liguei para o atendimento ao cliente, mas a garantia expirou \\\n",
    "já, então tive que comprar outro. FYI: O geral \\\n",
    "a qualidade foi feita nesses tipos de produtos, então \\\n",
    "eles estão contando com o reconhecimento da marca e \\\n",
    "lealdade do consumidor para manter as vendas. Entendi em cerca de \\\n",
    "dois dias.\n",
    "\"\"\"\n",
    "\n",
    "reviews = [review_1, review_2, review_3, review_4]"
   ]
  },
  {
   "cell_type": "code",
   "execution_count": 11,
   "metadata": {},
   "outputs": [
    {
     "name": "stdout",
     "output_type": "stream",
     "text": [
      "0 Soft and cute panda plush toy, loved by the reviewer's daughter, but a bit small for the price paid. Arrived early. \n",
      "\n",
      "1 Lamp with storage, affordable price, fast delivery, easy assembly, excellent customer service. \n",
      "\n",
      "2 Battery life impressive, but brush head too small. Good deal for $50, but replacement heads expensive. Leaves teeth feeling clean and shiny. \n",
      "\n",
      "3 The reviewer notes a price increase and a decrease in quality compared to previous models, but shares tips for using the blender effectively. \n",
      "\n"
     ]
    }
   ],
   "source": [
    "import time\n",
    "\n",
    "for i in range(len(reviews)):\n",
    "    prompt = f\"\"\"\n",
    "    Your task is to generate a short summary of a product \\ \n",
    "    review from an ecommerce site. \n",
    "\n",
    "    Summarize the review below, delimited by triple \\\n",
    "    backticks in at most 20 words. \n",
    "\n",
    "    Review: ```{reviews[i]}```\n",
    "    \"\"\"\n",
    "\n",
    "    response = get_completion(prompt)\n",
    "    print(i, response, \"\\n\")\n",
    "    time.sleep(20)"
   ]
  },
  {
   "cell_type": "markdown",
   "metadata": {},
   "source": [
    "## Try experimenting on your own!"
   ]
  },
  {
   "cell_type": "code",
   "execution_count": 10,
   "metadata": {},
   "outputs": [
    {
     "name": "stdout",
     "output_type": "stream",
     "text": [
      "Você pode adicionar um tempo de espera entre as chamadas API usando a função `time.sleep()` do Python. Essa função pausa a execução do programa por um determinado número de segundos. \n",
      "\n",
      "Por exemplo, se você quiser esperar 1 segundo entre cada chamada API, você pode adicionar a linha `time.sleep(1)` dentro do loop for:\n",
      "\n",
      "```\n",
      "import time\n",
      "import requests\n",
      "\n",
      "lista = [1, 2, 3, 4, 5]\n",
      "\n",
      "for item in lista:\n",
      "    # Faz a chamada API aqui\n",
      "    response = requests.get('https://exemplo.com/api')\n",
      "    \n",
      "    # Espera 1 segundo antes de continuar para a próxima iteração\n",
      "    time.sleep(1)\n",
      "```\n",
      "\n",
      "Dessa forma, o programa irá esperar 1 segundo após cada chamada API antes de continuar para a próxima iteração do loop for. Você pode ajustar o número de segundos passado para a função `time.sleep()` de acordo com o tempo limite da API que você está usando.\n"
     ]
    }
   ],
   "source": [
    "prompt = \"\"\"\n",
    "Desenvolvi um código que percorre uma lista \\\n",
    "e faz uma chamada API. Contudo, o site tem um \\\n",
    "tempo limite para requisições.\\\n",
    "Como adicionar um tempo entre os laços do for?\"\"\"\n",
    "\n",
    "response = get_completion(prompt)\n",
    "print(response)"
   ]
  },
  {
   "cell_type": "code",
   "execution_count": null,
   "metadata": {},
   "outputs": [],
   "source": []
  }
 ],
 "metadata": {
  "kernelspec": {
   "display_name": "Python 3",
   "language": "python",
   "name": "python3"
  },
  "language_info": {
   "codemirror_mode": {
    "name": "ipython",
    "version": 3
   },
   "file_extension": ".py",
   "mimetype": "text/x-python",
   "name": "python",
   "nbconvert_exporter": "python",
   "pygments_lexer": "ipython3",
   "version": "3.8.1"
  }
 },
 "nbformat": 4,
 "nbformat_minor": 4
}
