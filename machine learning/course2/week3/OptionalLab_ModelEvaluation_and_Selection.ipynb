{
 "cells": [
  {
   "cell_type": "markdown",
   "metadata": {},
   "source": [
    "# Laboratório Opcional: Avaliação e Seleção de Modelos\n",
    "\n",
    "Quantificar o desempenho de um algoritmo de aprendizado e comparar diferentes modelos são algumas das tarefas comuns ao aplicar aprendizado de máquina a aplicativos do mundo real. Neste laboratório, você praticará isso usando as dicas compartilhadas em sala de aula. Especificamente, você irá:\n",
    "\n",
    "* dividir conjuntos de dados em treinamento, validação cruzada e conjuntos de teste\n",
    "* avaliar modelos de regressão e classificação\n",
    "* adicionar recursos polinomiais para melhorar o desempenho de um modelo de regressão linear\n",
    "* comparar várias arquiteturas de redes neurais\n",
    "\n",
    "Este laboratório também ajudará você a se familiarizar com o código que verá na tarefa de programação desta semana. Vamos começar!"
   ]
  },
  {
   "cell_type": "markdown",
   "metadata": {},
   "source": [
    "## Importações e configuração do laboratório\n",
    "\n",
    "Primeiro, você importará os pacotes necessários para as tarefas deste laboratório. Também incluímos alguns comandos para tornar as saídas mais legíveis posteriormente, reduzindo a verbosidade e suprimindo avisos não críticos."
   ]
  },
  {
   "cell_type": "code",
   "execution_count": null,
   "metadata": {},
   "outputs": [],
   "source": [
    "# for array computations and loading data\n",
    "import numpy as np\n",
    "\n",
    "# for building linear regression models and preparing data\n",
    "from sklearn.linear_model import LinearRegression\n",
    "from sklearn.preprocessing import StandardScaler, PolynomialFeatures\n",
    "from sklearn.model_selection import train_test_split\n",
    "from sklearn.metrics import mean_squared_error\n",
    "\n",
    "# for building and training neural networks\n",
    "import tensorflow as tf\n",
    "\n",
    "# custom functions\n",
    "import utils\n",
    "\n",
    "# reduce display precision on numpy arrays\n",
    "np.set_printoptions(precision=2)\n",
    "\n",
    "# suppress warnings\n",
    "tf.get_logger().setLevel('ERROR')\n",
    "tf.autograph.set_verbosity(0)"
   ]
  },
  {
   "cell_type": "code",
   "execution_count": null,
   "metadata": {},
   "outputs": [],
   "source": []
  }
 ],
 "metadata": {
  "kernelspec": {
   "display_name": "Python 3",
   "language": "python",
   "name": "python3"
  },
  "language_info": {
   "codemirror_mode": {
    "name": "ipython",
    "version": 3
   },
   "file_extension": ".py",
   "mimetype": "text/x-python",
   "name": "python",
   "nbconvert_exporter": "python",
   "pygments_lexer": "ipython3",
   "version": "3.8.1"
  }
 },
 "nbformat": 4,
 "nbformat_minor": 4
}
