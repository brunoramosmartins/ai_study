{
 "cells": [
  {
   "cell_type": "markdown",
   "metadata": {},
   "source": [
    "# K-means Clustering\n",
    "\n",
    "Neste exercício, você implementará o algoritmo K-means e o usará para compactação de imagem.\n",
    "\n",
    "* Você começará com um conjunto de dados de amostra que o ajudará a obter uma intuição de como funciona o algoritmo K-means.\n",
    "* Depois disso, você usará o algoritmo K-means para compactação de imagem, reduzindo o número de cores que ocorrem em uma imagem apenas para aquelas que são mais comuns nessa imagem.\n",
    "\n",
    "\n",
    "\n",
    "\n",
    "# Outline\n",
    "- [ 1 - Implementando K-means](#1)\n",
    "   - [1.1 Encontrando centróides mais próximos](#1.1)\n",
    "     - [Exercício 1](#ex01)\n",
    "   - [1.2 Computação do centróide significa](#1.2)\n",
    "     - [Exercício 2](#ex02)\n",
    "- [ 2 - K-means em um conjunto de dados de amostra ](#2)\n",
    "- [ 3 - Inicialização aleatória](#3)\n",
    "- [ 4 - Compressão de imagem com K-means](#4)\n",
    "   - [ 4.1 Conjunto de dados](#4.1)\n",
    "   - [4,2 K-Means em pixels de imagem](#4,2)\n",
    "   - [4.3 Comprimir a imagem](#4.3)"
   ]
  },
  {
   "cell_type": "markdown",
   "metadata": {},
   "source": [
    ">_**OBSERVAÇÃO:** Para evitar erros do autoavaliador, você não tem permissão para editar ou excluir células não avaliadas neste laboratório. Evite também adicionar novas células.\n",
    "**Depois de ser aprovado nesta tarefa** e quiser experimentar qualquer um dos códigos não avaliados, siga as instruções na parte inferior deste caderno._"
   ]
  },
  {
   "cell_type": "markdown",
   "metadata": {},
   "source": [
    "Primeiramente, execute a célula abaixo para importar os pacotes necessários nesta atribuição:\n",
    "\n",
    "- [numpy](https://numpy.org/) é o pacote fundamental para computação científica com Python.\n",
    "- [matplotlib](http://matplotlib.org) é uma biblioteca popular para plotar gráficos em Python.\n",
    "- `utils.py` contém funções auxiliares para esta atribuição. Você não precisa modificar o código neste arquivo."
   ]
  },
  {
   "cell_type": "code",
   "execution_count": 2,
   "metadata": {},
   "outputs": [],
   "source": [
    "import numpy as np\n",
    "import matplotlib.pyplot as plt\n",
    "from utils import *\n",
    "\n",
    "%matplotlib inline"
   ]
  },
  {
   "cell_type": "markdown",
   "metadata": {},
   "source": [
    "<a name=\"1\"></a>\n",
    "## 1 - Implementando K-means\n",
    "\n",
    "O algoritmo K-means é um método para agrupar automaticamente\n",
    "pontos de dados juntos.\n",
    "\n",
    "* Concretamente, você recebe um conjunto de treinamento $\\{x^{(1)}, ..., x^{(m)}\\}$ e deseja\n",
    "para agrupar os dados em alguns “clusters” coesos.\n",
    "\n",
    "\n",
    "* K-means é um procedimento iterativo que\n",
    "      * Começa adivinhando os centróides iniciais e, em seguida,\n",
    "      * Refine este palpite por\n",
    "          * Atribuir repetidamente exemplos aos seus centróides mais próximos e, em seguida,\n",
    "          * Recalculando os centróides com base nas atribuições.\n",
    "         \n",
    "\n",
    "* Em pseudocódigo, o algoritmo K-means é o seguinte:\n",
    "\n",
    "     ``` píton\n",
    "     # Inicializa centroides\n",
    "     # K é o número de clusters\n",
    "     centróides = kMeans_init_centroids(X, K)\n",
    "    \n",
    "     para iter in range(iterações):\n",
    "         # Etapa de atribuição de cluster:\n",
    "         # Atribua cada ponto de dados ao centróide mais próximo.\n",
    "         # idx[i] corresponde ao índice do centróide\n",
    "         # atribuído ao exemplo i\n",
    "         idx = find_closest_centroids(X, centróides)\n",
    "\n",
    "         # Mover passo do centróide:\n",
    "         # Calcula as médias com base nas atribuições do centróide\n",
    "         centróides = compute_centroids(X, idx, K)\n",
    "     ```\n",
    "\n",
    "\n",
    "* O loop interno do algoritmo executa repetidamente duas etapas:\n",
    "     1. Atribuir cada exemplo de treinamento $x^{(i)}$ ao centroide mais próximo e\n",
    "     2. Recalcular a média de cada centróide usando os pontos atribuídos a ele.\n",
    "    \n",
    "    \n",
    "* O algoritmo $K$-means sempre convergirá para algum conjunto final de médias para os centróides.\n",
    "\n",
    "* No entanto, a solução convergente pode nem sempre ser ideal e depende da configuração inicial dos centróides.\n",
    "     * Portanto, na prática, o algoritmo K-means geralmente é executado algumas vezes com diferentes inicializações aleatórias.\n",
    "     * Uma maneira de escolher entre essas diferentes soluções de diferentes inicializações aleatórias é escolher aquela com o menor valor de função de custo (distorção).\n",
    "\n",
    "Você implementará as duas fases do algoritmo K-means separadamente\n",
    "nas próximas seções.\n",
    "* Você começará completando `find_closest_centroid` e, em seguida, concluirá `compute_centroids`."
   ]
  },
  {
   "cell_type": "markdown",
   "metadata": {},
   "source": [
    "<a name=\"1.1\"></a>\n",
    "### 1.1 Encontrando centróides mais próximos\n",
    "\n",
    "Na fase de “atribuição de cluster” do algoritmo K-means, o\n",
    "algoritmo atribui cada exemplo de treinamento $x^{(i)}$ ao seu mais próximo\n",
    "centróide, dadas as posições atuais dos centroides.\n",
    "\n",
    "<a name=\"ex01\"></a>\n",
    "### Exercício 1\n",
    "\n",
    "Sua tarefa é completar o código em `find_closest_centroids`.\n",
    "* Esta função pega a matriz de dados `X` e as localizações de todos\n",
    "centróides dentro de 'centróides'\n",
    "* Deve gerar um array unidimensional `idx` (que tem o mesmo número de elementos que `X`) que contém o índice do centróide mais próximo (um valor em $\\{0,...,K-1\\}$, onde $K$ é o número total de centróides) para cada exemplo de treinamento . *(Observação: o intervalo de índice de 0 a K-1 varia ligeiramente do que é mostrado nas aulas (ou seja, 1 a K) porque os índices de lista do Python começam em 0 em vez de 1)*\n",
    "* Especificamente, para cada exemplo $x^{(i)}$ que definimos\n",
    "$$c^{(i)} := j \\quad \\mathrm{que \\; minimiza} \\quad ||x^{(i)} - \\mu_j||^2,$$\n",
    "onde\n",
    "  * $c^{(i)}$ é o índice do centróide que está mais próximo de $x^{(i)}$ (corresponde a `idx[i]` no código inicial), e\n",
    "  * $\\mu_j$ é a posição (valor) do $j$’ésimo centróide. (armazenado em `centroids` no código inicial)\n",
    "  * $||x^{(i)} - \\mu_j||$ é a norma L2\n",
    " \n",
    "Se você tiver dúvidas, pode conferir as dicas apresentadas após a célula abaixo para ajudá-lo na implementação."
   ]
  },
  {
   "cell_type": "code",
   "execution_count": 5,
   "metadata": {},
   "outputs": [],
   "source": [
    "# UNQ_C1\n",
    "# GRADED FUNCTION: find_closest_centroids\n",
    "\n",
    "def find_closest_centroids(X, centroids):\n",
    "    \"\"\"\n",
    "    Computes the centroid memberships for every example\n",
    "    \n",
    "    Args:\n",
    "        X (ndarray): (m, n) Input values      \n",
    "        centroids (ndarray): (K, n) centroids\n",
    "    \n",
    "    Returns:\n",
    "        idx (array_like): (m,) closest centroids\n",
    "    \n",
    "    \"\"\"\n",
    "\n",
    "    # Set K\n",
    "    K = centroids.shape[0]\n",
    "\n",
    "    # You need to return the following variables correctly\n",
    "    idx = np.zeros(X.shape[0], dtype=int)\n",
    "\n",
    "    ### START CODE HERE ###\n",
    "    for i in range(X.shape[0]):\n",
    "        distance = []\n",
    "        for j in range(centroids.shape[0]):\n",
    "            norm_ij = np.linalg.norm(X[i] - centroids[j])\n",
    "            distance.append(norm_ij)\n",
    "        \n",
    "        idx[i] = np.argmin(distance)\n",
    "        \n",
    "     ### END CODE HERE ###\n",
    "    \n",
    "    return idx"
   ]
  },
  {
   "cell_type": "markdown",
   "metadata": {},
   "source": [
    "Now let's check your implementation using an example dataset"
   ]
  },
  {
   "cell_type": "code",
   "execution_count": 4,
   "metadata": {},
   "outputs": [],
   "source": [
    "# Load an example dataset that we will be using\n",
    "X = load_data()"
   ]
  },
  {
   "cell_type": "markdown",
   "metadata": {},
   "source": [
    "The code below prints the first five elements in the variable `X` and the dimensions of the variable"
   ]
  },
  {
   "cell_type": "code",
   "execution_count": 6,
   "metadata": {},
   "outputs": [
    {
     "name": "stdout",
     "output_type": "stream",
     "text": [
      "First five elements of X are:\n",
      " [[1.84207953 4.6075716 ]\n",
      " [5.65858312 4.79996405]\n",
      " [6.35257892 3.2908545 ]\n",
      " [2.90401653 4.61220411]\n",
      " [3.23197916 4.93989405]]\n",
      "The shape of X is: (300, 2)\n"
     ]
    }
   ],
   "source": [
    "print(\"First five elements of X are:\\n\", X[:5]) \n",
    "print('The shape of X is:', X.shape)"
   ]
  },
  {
   "cell_type": "code",
   "execution_count": 7,
   "metadata": {},
   "outputs": [
    {
     "name": "stdout",
     "output_type": "stream",
     "text": [
      "First three elements in idx are: [0 2 1]\n",
      "\u001b[92mAll tests passed!\n"
     ]
    }
   ],
   "source": [
    "# Select an initial set of centroids (3 Centroids)\n",
    "initial_centroids = np.array([[3,3], [6,2], [8,5]])\n",
    "\n",
    "# Find closest centroids using initial_centroids\n",
    "idx = find_closest_centroids(X, initial_centroids)\n",
    "\n",
    "# Print closest centroids for the first three elements\n",
    "print(\"First three elements in idx are:\", idx[:3])\n",
    "\n",
    "# UNIT TEST\n",
    "from public_tests import *\n",
    "\n",
    "find_closest_centroids_test(find_closest_centroids)"
   ]
  },
  {
   "cell_type": "code",
   "execution_count": null,
   "metadata": {},
   "outputs": [],
   "source": []
  }
 ],
 "metadata": {
  "kernelspec": {
   "display_name": "Python 3",
   "language": "python",
   "name": "python3"
  },
  "language_info": {
   "codemirror_mode": {
    "name": "ipython",
    "version": 3
   },
   "file_extension": ".py",
   "mimetype": "text/x-python",
   "name": "python",
   "nbconvert_exporter": "python",
   "pygments_lexer": "ipython3",
   "version": "3.8.1"
  }
 },
 "nbformat": 4,
 "nbformat_minor": 4
}
